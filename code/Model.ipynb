{
 "cells": [
  {
   "cell_type": "code",
   "execution_count": 121,
   "id": "2834a57d",
   "metadata": {},
   "outputs": [],
   "source": [
    "import utils\n",
    "import numpy as np\n",
    "from sklearn.multiclass import OneVsRestClassifier\n",
    "from sklearn.model_selection import train_test_split\n",
    "from sklearn.linear_model import LogisticRegression\n",
    "import pickle\n",
    "from sklearn.neural_network import MLPClassifier\n",
    "import warnings\n",
    "from sklearn.neighbors import KNeighborsClassifier\n",
    "from sklearn.model_selection import StratifiedShuffleSplit\n",
    "from sklearn.utils import resample\n",
    "warnings.filterwarnings('ignore')\n",
    "import pandas as pd\n",
    "from sklearn.tree import DecisionTreeClassifier\n",
    "import pickle\n",
    "# import imblearn"
   ]
  },
  {
   "cell_type": "code",
   "execution_count": 122,
   "id": "76fbd7c3",
   "metadata": {},
   "outputs": [],
   "source": [
    "np.set_printoptions(threshold=np.inf)"
   ]
  },
  {
   "cell_type": "code",
   "execution_count": 123,
   "id": "99ab3cb6",
   "metadata": {},
   "outputs": [],
   "source": [
    "dictSize = 225\n",
    "(X, y) = utils.loadData( \"train\", dictSize = dictSize )\n"
   ]
  },
  {
   "cell_type": "code",
   "execution_count": 111,
   "id": "9c5697ac",
   "metadata": {},
   "outputs": [],
   "source": [
    "\n",
    "# X_train, X_test, y_train, y_test = train_test_split(X, y, test_size=0.3, stratify=y)\n",
    "# X_train, y_train = SMOTE(k_neighbors=1).fit_resample(X_train, y_train)\n",
    "# ros = RandomOverSampler(random_state=0)\n",
    "# X_train, y_train = ros.fit_resample(X_train, y_train)"
   ]
  },
  {
   "cell_type": "code",
   "execution_count": 112,
   "id": "05a82bcb",
   "metadata": {},
   "outputs": [
    {
     "data": {
      "text/plain": [
       "(array([ 1.,  2.,  3.,  4.,  5.,  6.,  7.,  8.,  9., 10., 11., 12., 13.,\n",
       "        14., 15., 16., 17., 18., 19., 20., 21., 22., 23., 24., 25., 26.,\n",
       "        27., 28., 29., 30., 31., 32., 34., 35., 37., 39., 40., 41., 42.,\n",
       "        43., 44., 45., 46., 47., 48., 49., 50.]),\n",
       " array([ 997, 1791, 1056, 1033,   62,    6,  195,  203,  205,  204,  108,\n",
       "         108,  106,    6,   74,   81,   30,   15,   44,   43,   29,   28,\n",
       "          51,   35,   46,   41,    2,   32,   28,   36,    8,   34,   22,\n",
       "          34,   19,   18,    6,   16,   22,   20,   20,   13,   11,   16,\n",
       "          20,   10,   16], dtype=int64))"
      ]
     },
     "execution_count": 112,
     "metadata": {},
     "output_type": "execute_result"
    }
   ],
   "source": [
    "# np.unique(y_train, return_counts = True)"
   ]
  },
  {
   "cell_type": "code",
   "execution_count": 116,
   "id": "1dc958cd",
   "metadata": {
    "scrolled": true
   },
   "outputs": [
    {
     "name": "stdout",
     "output_type": "stream",
     "text": [
      "1\n",
      "2\n",
      "3\n",
      "4\n",
      "5\n",
      "6\n",
      "7\n",
      "8\n",
      "9\n",
      "10\n"
     ]
    }
   ],
   "source": [
    "file1 = open(\"f.txt\", \"a\")\n",
    "file1.write(\"OVA (logistic regression) \\n \\n\")\n",
    "file1.close()\n",
    "for i in range(1, 11, 1):\n",
    "    print(i)\n",
    "    reg = i\n",
    "    clf = OneVsRestClassifier(LogisticRegression(C=reg))\n",
    "    clf = clf.fit(X, y)\n",
    "    y_pred = clf.predict_proba(X)\n",
    "    y_t = -np.sort(-y_pred)\n",
    "    y_pred = np.insert(y_pred,32,0,axis=1)\n",
    "    y_pred = np.insert(y_pred,35,0,axis=1)\n",
    "    y_pred = np.insert(y_pred,37,0,axis=1)\n",
    "    y_t = np.argsort(-y_pred)[:,:5]\n",
    "    y_t = y_t+1\n",
    "    preck = utils.getPrecAtK( y, y_t, 5 )\n",
    "    mpreck = utils.getMPrecAtK( y, y_t, 5 )\n",
    "    file1 = open(\"f.txt\", \"a\")\n",
    "    C = clf.get_params()['estimator__C']\n",
    "    file1.write(\"For C : %d\" % reg )\n",
    "    file1.write(\" prec@1: %0.3f\" % preck[0])\n",
    "    file1.write(\" prec@3: %0.3f\" % preck[2])\n",
    "    file1.write(\" prec@5: %0.3f\" % preck[4])\n",
    "    file1.write(\" mprec@1: %0.3e\" % mpreck[0])\n",
    "    file1.write(\" mprec@3: %0.3e\" % mpreck[2])\n",
    "    file1.write(\" mprec@5: %0.3e\" % mpreck[4])\n",
    "    file1.write(\"\\n\\n\\n\")\n",
    "    file1.close()"
   ]
  },
  {
   "cell_type": "code",
   "execution_count": 127,
   "id": "2f8a2606",
   "metadata": {},
   "outputs": [],
   "source": [
    "# reg = 4\n",
    "clf = OneVsRestClassifier(LogisticRegression(C = 10))\n",
    "clf = clf.fit(X, y)\n",
    "\n",
    "pickle.dump(clf, open(\"model.pkl\", \"wb\"))"
   ]
  },
  {
   "cell_type": "code",
   "execution_count": 118,
   "id": "7be11d26",
   "metadata": {
    "scrolled": true
   },
   "outputs": [],
   "source": [
    "file1 = open(\"f.txt\", \"a\")\n",
    "file1.write(\"KNN \\n \\n\")\n",
    "file1.close()\n",
    "clf = KNeighborsClassifier(n_neighbors=42)\n",
    "clf.fit(X_train, y_train)\n",
    "y_pred = clf.predict_proba(X_test)\n",
    "y_t = -np.sort(-y_pred)\n",
    "y_pred = np.insert(y_pred,32,0,axis=1)\n",
    "y_pred = np.insert(y_pred,35,0,axis=1)\n",
    "y_pred = np.insert(y_pred,37,0,axis=1)\n",
    "y_t = np.argsort(-y_pred)[:,:5]\n",
    "y_t = y_t+1\n",
    "preck = utils.getPrecAtK( y_test, y_t, 5 )\n",
    "mpreck = utils.getMPrecAtK( y_test, y_t, 5 )\n",
    "file1 = open(\"f.txt\", \"a\")\n",
    "file1.write(\" prec@1: %0.3f\" % preck[0])\n",
    "file1.write(\" prec@3: %0.3f\" % preck[2])\n",
    "file1.write(\" prec@5: %0.3f\" % preck[4])\n",
    "file1.write(\" mprec@1: %0.3e\" % mpreck[0])\n",
    "file1.write(\" mprec@3: %0.3e\" % mpreck[2])\n",
    "file1.write(\" mprec@5: %0.3e\" % mpreck[4])\n",
    "file1.write(\"\\n\\n\\n\")\n",
    "file1.close()"
   ]
  },
  {
   "cell_type": "code",
   "execution_count": 119,
   "id": "8ae7cf97",
   "metadata": {},
   "outputs": [],
   "source": [
    "file1 = open(\"f.txt\", \"a\")\n",
    "file1.write(\"Decision Tree : \\n \\n\")\n",
    "file1.close()\n",
    "clf = DecisionTreeClassifier(random_state=0)\n",
    "clf.fit(X_train, y_train)\n",
    "y_pred = clf.predict_proba(X_test)\n",
    "y_t = -np.sort(-y_pred)\n",
    "y_pred = np.insert(y_pred,32,0,axis=1)\n",
    "y_pred = np.insert(y_pred,35,0,axis=1)\n",
    "y_pred = np.insert(y_pred,37,0,axis=1)\n",
    "y_t = np.argsort(-y_pred)[:,:5]\n",
    "y_t = y_t+1\n",
    "preck = utils.getPrecAtK( y_test, y_t, 5 )\n",
    "mpreck = utils.getMPrecAtK( y_test, y_t, 5 )\n",
    "file1 = open(\"f.txt\", \"a\")\n",
    "file1.write(\" prec@1: %0.3f\" % preck[0])\n",
    "file1.write(\" prec@3: %0.3f\" % preck[2])\n",
    "file1.write(\" prec@5: %0.3f\" % preck[4])\n",
    "file1.write(\" mprec@1: %0.3e\" % mpreck[0])\n",
    "file1.write(\" mprec@3: %0.3e\" % mpreck[2])\n",
    "file1.write(\" mprec@5: %0.3e\" % mpreck[4])\n",
    "file1.write(\"\\n\\n\\n\")\n",
    "file1.close()"
   ]
  }
 ],
 "metadata": {
  "kernelspec": {
   "display_name": "Python 3 (ipykernel)",
   "language": "python",
   "name": "python3"
  },
  "language_info": {
   "codemirror_mode": {
    "name": "ipython",
    "version": 3
   },
   "file_extension": ".py",
   "mimetype": "text/x-python",
   "name": "python",
   "nbconvert_exporter": "python",
   "pygments_lexer": "ipython3",
   "version": "3.10.5"
  }
 },
 "nbformat": 4,
 "nbformat_minor": 5
}
