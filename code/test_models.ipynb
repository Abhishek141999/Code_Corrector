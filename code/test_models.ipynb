{
 "cells": [
  {
   "cell_type": "code",
   "execution_count": 1,
   "id": "ae2758b2",
   "metadata": {},
   "outputs": [],
   "source": [
    "import utils\n",
    "import numpy as np\n",
    "import pandas as pd \n",
    "from sklearn.model_selection import train_test_split\n",
    "from sklearn.ensemble import ExtraTreesClassifier\n",
    "from sklearn.neighbors import NearestNeighbors\n",
    "from sklearn.utils import resample\n",
    "from sklearn.linear_model import LogisticRegression\n",
    "from sklearn.multiclass import OneVsRestClassifier\n",
    "from sklearn.metrics import precision_score\n",
    "from sklearn.metrics import recall_score\n",
    "import warnings\n",
    "warnings.filterwarnings('ignore')"
   ]
  },
  {
   "cell_type": "code",
   "execution_count": 3,
   "id": "78ab2890",
   "metadata": {},
   "outputs": [],
   "source": [
    "dictSize = 225\n",
    "(X, y) = utils.loadData( \"train\", dictSize = dictSize )"
   ]
  },
  {
   "cell_type": "code",
   "execution_count": 4,
   "id": "0a03f20b",
   "metadata": {},
   "outputs": [
    {
     "data": {
      "text/plain": [
       "(array([ 1.,  2.,  3.,  4.,  5.,  6.,  7.,  8.,  9., 10., 11., 12., 13.,\n",
       "        14., 15., 16., 17., 18., 19., 20., 21., 22., 23., 24., 25., 26.,\n",
       "        27., 28., 29., 30., 31., 32., 34., 35., 37., 39., 40., 41., 42.,\n",
       "        43., 44., 45., 46., 47., 48., 49., 50.]),\n",
       " array([1424, 2558, 1509, 1475,   89,    9,  278,  290,  293,  291,  155,\n",
       "         154,  151,    9,  105,  116,   43,   21,   63,   62,   41,   40,\n",
       "          73,   50,   66,   58,    3,   46,   40,   52,   12,   49,   31,\n",
       "          48,   27,   25,    9,   23,   32,   28,   28,   19,   16,   23,\n",
       "          29,   14,   23], dtype=int64))"
      ]
     },
     "execution_count": 4,
     "metadata": {},
     "output_type": "execute_result"
    }
   ],
   "source": [
    "np.unique(y,return_counts=True)"
   ]
  },
  {
   "cell_type": "code",
   "execution_count": 5,
   "id": "1fb676d8",
   "metadata": {},
   "outputs": [
    {
     "data": {
      "text/plain": [
       "array([[ 1.],\n",
       "       [ 2.],\n",
       "       [ 4.],\n",
       "       ...,\n",
       "       [ 2.],\n",
       "       [32.],\n",
       "       [ 3.]])"
      ]
     },
     "execution_count": 5,
     "metadata": {},
     "output_type": "execute_result"
    }
   ],
   "source": [
    "y_t = y.reshape(y.shape[0],1)\n",
    "y_t"
   ]
  },
  {
   "cell_type": "code",
   "execution_count": 8,
   "id": "1c5c6722",
   "metadata": {},
   "outputs": [
    {
     "data": {
      "text/plain": [
       "array([[0., 0., 2., ..., 0., 0., 0.],\n",
       "       [0., 0., 0., ..., 0., 0., 0.],\n",
       "       [0., 0., 0., ..., 0., 0., 0.],\n",
       "       ...,\n",
       "       [0., 0., 0., ..., 0., 0., 0.],\n",
       "       [0., 0., 0., ..., 0., 0., 0.],\n",
       "       [0., 0., 0., ..., 0., 0., 0.]])"
      ]
     },
     "execution_count": 8,
     "metadata": {},
     "output_type": "execute_result"
    }
   ],
   "source": [
    "x_t = X.toarray()\n",
    "x_t"
   ]
  },
  {
   "cell_type": "code",
   "execution_count": 10,
   "id": "ceb1cbe1",
   "metadata": {},
   "outputs": [
    {
     "data": {
      "text/plain": [
       "array([[ 0.,  0.,  2., ...,  0.,  1.,  1.],\n",
       "       [ 0.,  0.,  0., ...,  0.,  2.,  2.],\n",
       "       [ 0.,  0.,  0., ...,  0.,  4.,  4.],\n",
       "       ...,\n",
       "       [ 0.,  0.,  0., ...,  0.,  2.,  2.],\n",
       "       [ 0.,  0.,  0., ...,  0., 32., 32.],\n",
       "       [ 0.,  0.,  0., ...,  0.,  3.,  3.]])"
      ]
     },
     "execution_count": 10,
     "metadata": {},
     "output_type": "execute_result"
    }
   ],
   "source": [
    "x_t = np.hstack((x_t,y_t))\n",
    "x_t"
   ]
  },
  {
   "cell_type": "code",
   "execution_count": 11,
   "id": "103f7ade",
   "metadata": {},
   "outputs": [],
   "source": [
    "data = pd.DataFrame(x_t)"
   ]
  },
  {
   "cell_type": "code",
   "execution_count": 76,
   "id": "c78f3470",
   "metadata": {},
   "outputs": [],
   "source": [
    "temp1 = data[data.iloc[:,225]==6]"
   ]
  },
  {
   "cell_type": "code",
   "execution_count": 77,
   "id": "0addae42",
   "metadata": {},
   "outputs": [],
   "source": [
    "temp2 = data[data.iloc[:,225]==14]"
   ]
  },
  {
   "cell_type": "code",
   "execution_count": 78,
   "id": "90257089",
   "metadata": {},
   "outputs": [],
   "source": [
    "temp3 = data[data.iloc[:,225]==18]"
   ]
  },
  {
   "cell_type": "code",
   "execution_count": 79,
   "id": "aa0a6d07",
   "metadata": {},
   "outputs": [],
   "source": [
    "temp4 = data[data.iloc[:,225]==27]"
   ]
  },
  {
   "cell_type": "code",
   "execution_count": 80,
   "id": "790f10b4",
   "metadata": {},
   "outputs": [],
   "source": [
    "temp5  = data[data.iloc[:,225]==40]"
   ]
  },
  {
   "cell_type": "code",
   "execution_count": 81,
   "id": "260065c0",
   "metadata": {},
   "outputs": [],
   "source": [
    "temp6  = data[data.iloc[:,225]==45]\n",
    "temp7  = data[data.iloc[:,225]==46]\n",
    "temp8  = data[data.iloc[:,225]==47]\n",
    "temp9  = data[data.iloc[:,225]==48]\n",
    "temp10  = data[data.iloc[:,225]==49]\n",
    "temp11  = data[data.iloc[:,225]==50]"
   ]
  },
  {
   "cell_type": "code",
   "execution_count": 82,
   "id": "dd26c961",
   "metadata": {},
   "outputs": [],
   "source": [
    "_temp1 = resample(temp1, replace=True,n_samples=1000,random_state=123)\n",
    "_temp2 = resample(temp2, replace=True,n_samples=1000,random_state=123)\n",
    "_temp3 = resample(temp3, replace=True,n_samples=300,random_state=123)\n",
    "_temp4 = resample(temp4, replace=True,n_samples=300,random_state=123)\n",
    "_temp5 = resample(temp5, replace=True,n_samples=300,random_state=123)\n",
    "_temp6 = resample(temp6, replace=True,n_samples=300,random_state=123)\n",
    "_temp7 = resample(temp7, replace=True,n_samples=300,random_state=123)\n",
    "_temp8 = resample(temp8, replace=True,n_samples=300,random_state=123)\n",
    "_temp9 = resample(temp9, replace=True,n_samples=300,random_state=123)\n",
    "_temp10 = resample(temp10, replace=True,n_samples=300,random_state=123)\n",
    "_temp11 = resample(temp11, replace=True,n_samples=300,random_state=123)"
   ]
  },
  {
   "cell_type": "code",
   "execution_count": 83,
   "id": "e78da8e9",
   "metadata": {},
   "outputs": [],
   "source": [
    "t_data = pd.concat([data,_temp1,_temp2,temp3,temp4,temp5,temp6,temp7,temp8,temp9,temp10,temp11])"
   ]
  },
  {
   "cell_type": "code",
   "execution_count": 84,
   "id": "c78d6fe9",
   "metadata": {},
   "outputs": [
    {
     "data": {
      "text/plain": [
       "(12157, 226)"
      ]
     },
     "execution_count": 84,
     "metadata": {},
     "output_type": "execute_result"
    }
   ],
   "source": [
    "t_data.shape"
   ]
  },
  {
   "cell_type": "code",
   "execution_count": 85,
   "id": "6605aa07",
   "metadata": {},
   "outputs": [],
   "source": [
    "n_data = t_data.to_numpy()"
   ]
  },
  {
   "cell_type": "code",
   "execution_count": 86,
   "id": "9049e11d",
   "metadata": {},
   "outputs": [],
   "source": [
    "X = n_data[:,:-1]"
   ]
  },
  {
   "cell_type": "code",
   "execution_count": 87,
   "id": "f5c53659",
   "metadata": {},
   "outputs": [],
   "source": [
    "y = n_data[:,-1]"
   ]
  },
  {
   "cell_type": "code",
   "execution_count": 88,
   "id": "9a450581",
   "metadata": {},
   "outputs": [],
   "source": [
    "X_train, X_test, y_train, y_test = train_test_split(X, y, test_size=0.33, stratify=y)"
   ]
  },
  {
   "cell_type": "code",
   "execution_count": 89,
   "id": "614e84ef",
   "metadata": {},
   "outputs": [
    {
     "name": "stderr",
     "output_type": "stream",
     "text": [
      "C:\\Users\\Asus\\anaconda3\\lib\\site-packages\\sklearn\\linear_model\\_logistic.py:444: ConvergenceWarning: lbfgs failed to converge (status=1):\n",
      "STOP: TOTAL NO. of ITERATIONS REACHED LIMIT.\n",
      "\n",
      "Increase the number of iterations (max_iter) or scale the data as shown in:\n",
      "    https://scikit-learn.org/stable/modules/preprocessing.html\n",
      "Please also refer to the documentation for alternative solver options:\n",
      "    https://scikit-learn.org/stable/modules/linear_model.html#logistic-regression\n",
      "  n_iter_i = _check_optimize_result(\n",
      "C:\\Users\\Asus\\anaconda3\\lib\\site-packages\\sklearn\\linear_model\\_logistic.py:444: ConvergenceWarning: lbfgs failed to converge (status=1):\n",
      "STOP: TOTAL NO. of ITERATIONS REACHED LIMIT.\n",
      "\n",
      "Increase the number of iterations (max_iter) or scale the data as shown in:\n",
      "    https://scikit-learn.org/stable/modules/preprocessing.html\n",
      "Please also refer to the documentation for alternative solver options:\n",
      "    https://scikit-learn.org/stable/modules/linear_model.html#logistic-regression\n",
      "  n_iter_i = _check_optimize_result(\n",
      "C:\\Users\\Asus\\anaconda3\\lib\\site-packages\\sklearn\\linear_model\\_logistic.py:444: ConvergenceWarning: lbfgs failed to converge (status=1):\n",
      "STOP: TOTAL NO. of ITERATIONS REACHED LIMIT.\n",
      "\n",
      "Increase the number of iterations (max_iter) or scale the data as shown in:\n",
      "    https://scikit-learn.org/stable/modules/preprocessing.html\n",
      "Please also refer to the documentation for alternative solver options:\n",
      "    https://scikit-learn.org/stable/modules/linear_model.html#logistic-regression\n",
      "  n_iter_i = _check_optimize_result(\n",
      "C:\\Users\\Asus\\anaconda3\\lib\\site-packages\\sklearn\\linear_model\\_logistic.py:444: ConvergenceWarning: lbfgs failed to converge (status=1):\n",
      "STOP: TOTAL NO. of ITERATIONS REACHED LIMIT.\n",
      "\n",
      "Increase the number of iterations (max_iter) or scale the data as shown in:\n",
      "    https://scikit-learn.org/stable/modules/preprocessing.html\n",
      "Please also refer to the documentation for alternative solver options:\n",
      "    https://scikit-learn.org/stable/modules/linear_model.html#logistic-regression\n",
      "  n_iter_i = _check_optimize_result(\n",
      "C:\\Users\\Asus\\anaconda3\\lib\\site-packages\\sklearn\\linear_model\\_logistic.py:444: ConvergenceWarning: lbfgs failed to converge (status=1):\n",
      "STOP: TOTAL NO. of ITERATIONS REACHED LIMIT.\n",
      "\n",
      "Increase the number of iterations (max_iter) or scale the data as shown in:\n",
      "    https://scikit-learn.org/stable/modules/preprocessing.html\n",
      "Please also refer to the documentation for alternative solver options:\n",
      "    https://scikit-learn.org/stable/modules/linear_model.html#logistic-regression\n",
      "  n_iter_i = _check_optimize_result(\n",
      "C:\\Users\\Asus\\anaconda3\\lib\\site-packages\\sklearn\\linear_model\\_logistic.py:444: ConvergenceWarning: lbfgs failed to converge (status=1):\n",
      "STOP: TOTAL NO. of ITERATIONS REACHED LIMIT.\n",
      "\n",
      "Increase the number of iterations (max_iter) or scale the data as shown in:\n",
      "    https://scikit-learn.org/stable/modules/preprocessing.html\n",
      "Please also refer to the documentation for alternative solver options:\n",
      "    https://scikit-learn.org/stable/modules/linear_model.html#logistic-regression\n",
      "  n_iter_i = _check_optimize_result(\n",
      "C:\\Users\\Asus\\anaconda3\\lib\\site-packages\\sklearn\\linear_model\\_logistic.py:444: ConvergenceWarning: lbfgs failed to converge (status=1):\n",
      "STOP: TOTAL NO. of ITERATIONS REACHED LIMIT.\n",
      "\n",
      "Increase the number of iterations (max_iter) or scale the data as shown in:\n",
      "    https://scikit-learn.org/stable/modules/preprocessing.html\n",
      "Please also refer to the documentation for alternative solver options:\n",
      "    https://scikit-learn.org/stable/modules/linear_model.html#logistic-regression\n",
      "  n_iter_i = _check_optimize_result(\n",
      "C:\\Users\\Asus\\anaconda3\\lib\\site-packages\\sklearn\\linear_model\\_logistic.py:444: ConvergenceWarning: lbfgs failed to converge (status=1):\n",
      "STOP: TOTAL NO. of ITERATIONS REACHED LIMIT.\n",
      "\n",
      "Increase the number of iterations (max_iter) or scale the data as shown in:\n",
      "    https://scikit-learn.org/stable/modules/preprocessing.html\n",
      "Please also refer to the documentation for alternative solver options:\n",
      "    https://scikit-learn.org/stable/modules/linear_model.html#logistic-regression\n",
      "  n_iter_i = _check_optimize_result(\n",
      "C:\\Users\\Asus\\anaconda3\\lib\\site-packages\\sklearn\\linear_model\\_logistic.py:444: ConvergenceWarning: lbfgs failed to converge (status=1):\n",
      "STOP: TOTAL NO. of ITERATIONS REACHED LIMIT.\n",
      "\n",
      "Increase the number of iterations (max_iter) or scale the data as shown in:\n",
      "    https://scikit-learn.org/stable/modules/preprocessing.html\n",
      "Please also refer to the documentation for alternative solver options:\n",
      "    https://scikit-learn.org/stable/modules/linear_model.html#logistic-regression\n",
      "  n_iter_i = _check_optimize_result(\n"
     ]
    }
   ],
   "source": [
    "o_vs_r = OneVsRestClassifier(LogisticRegression())\n",
    "ovsr = o_vs_r.fit(X_train, y_train)"
   ]
  },
  {
   "cell_type": "code",
   "execution_count": 98,
   "id": "f550e9cd",
   "metadata": {},
   "outputs": [],
   "source": [
    "y_pred = o_vs_r.predict_proba(X_test)"
   ]
  },
  {
   "cell_type": "code",
   "execution_count": 94,
   "id": "bf84c1fd",
   "metadata": {},
   "outputs": [
    {
     "data": {
      "text/plain": [
       "0.8130608175473579"
      ]
     },
     "execution_count": 94,
     "metadata": {},
     "output_type": "execute_result"
    }
   ],
   "source": [
    "# np.average(y_test == y_pred)"
   ]
  },
  {
   "cell_type": "code",
   "execution_count": 95,
   "id": "a706011f",
   "metadata": {},
   "outputs": [
    {
     "name": "stderr",
     "output_type": "stream",
     "text": [
      "C:\\Users\\Asus\\anaconda3\\lib\\site-packages\\sklearn\\metrics\\_classification.py:1334: UndefinedMetricWarning: Precision is ill-defined and being set to 0.0 in labels with no predicted samples. Use `zero_division` parameter to control this behavior.\n",
      "  _warn_prf(average, modifier, msg_start, len(result))\n"
     ]
    },
    {
     "data": {
      "text/plain": [
       "0.7962875819528371"
      ]
     },
     "execution_count": 95,
     "metadata": {},
     "output_type": "execute_result"
    }
   ],
   "source": [
    "# precision_score(y_test, y_pred,average='weighted')\n"
   ]
  },
  {
   "cell_type": "code",
   "execution_count": 96,
   "id": "66ef5cc2",
   "metadata": {},
   "outputs": [
    {
     "data": {
      "text/plain": [
       "0.8130608175473579"
      ]
     },
     "execution_count": 96,
     "metadata": {},
     "output_type": "execute_result"
    }
   ],
   "source": [
    "# recall_score(y_test, y_pred,average='weighted')"
   ]
  },
  {
   "cell_type": "code",
   "execution_count": 99,
   "id": "c48736cf",
   "metadata": {},
   "outputs": [],
   "source": [
    "y_pred = np.insert(y_pred,32,0,axis=1)\n",
    "y_pred = np.insert(y_pred,35,0,axis=1)\n",
    "y_pred = np.insert(y_pred,37,0,axis=1)\n",
    "y_t = np.argsort(-y_pred)[:,:5]"
   ]
  },
  {
   "cell_type": "code",
   "execution_count": null,
   "id": "421ea766",
   "metadata": {},
   "outputs": [],
   "source": []
  },
  {
   "cell_type": "code",
   "execution_count": 100,
   "id": "eb7a3dc2",
   "metadata": {},
   "outputs": [],
   "source": [
    "y_t = np.argsort(-y_pred)[:,:5]+1"
   ]
  },
  {
   "cell_type": "code",
   "execution_count": 101,
   "id": "2684ff77",
   "metadata": {},
   "outputs": [],
   "source": [
    "preck = utils.getPrecAtK( y_test, y_t, 5 )"
   ]
  },
  {
   "cell_type": "code",
   "execution_count": 102,
   "id": "6db39167",
   "metadata": {},
   "outputs": [
    {
     "name": "stdout",
     "output_type": "stream",
     "text": [
      "prec@1: 0.813 prec@3: 0.925 prec@5: 0.964\n"
     ]
    }
   ],
   "source": [
    "print( \"prec@1: %0.3f\" % preck[0], \"prec@3: %0.3f\" % preck[2], \"prec@5: %0.3f\" % preck[4] )"
   ]
  },
  {
   "cell_type": "code",
   "execution_count": 103,
   "id": "c597da8f",
   "metadata": {},
   "outputs": [],
   "source": [
    "mpreck = utils.getMPrecAtK( y_test, y_t, 5 )"
   ]
  },
  {
   "cell_type": "code",
   "execution_count": 104,
   "id": "fc156d4a",
   "metadata": {},
   "outputs": [
    {
     "name": "stdout",
     "output_type": "stream",
     "text": [
      "mprec@1: 5.299e-01 mprec@3: 7.557e-01 mprec@5: 8.805e-01\n"
     ]
    }
   ],
   "source": [
    "print( \"mprec@1: %0.3e\" % mpreck[0], \"mprec@3: %0.3e\" % mpreck[2], \"mprec@5: %0.3e\" % mpreck[4] )"
   ]
  },
  {
   "cell_type": "code",
   "execution_count": null,
   "id": "305919ca",
   "metadata": {},
   "outputs": [],
   "source": []
  }
 ],
 "metadata": {
  "kernelspec": {
   "display_name": "Python 3 (ipykernel)",
   "language": "python",
   "name": "python3"
  },
  "language_info": {
   "codemirror_mode": {
    "name": "ipython",
    "version": 3
   },
   "file_extension": ".py",
   "mimetype": "text/x-python",
   "name": "python",
   "nbconvert_exporter": "python",
   "pygments_lexer": "ipython3",
   "version": "3.9.13"
  }
 },
 "nbformat": 4,
 "nbformat_minor": 5
}
